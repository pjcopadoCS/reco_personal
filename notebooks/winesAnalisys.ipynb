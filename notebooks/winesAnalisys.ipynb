{
 "cells": [
  {
   "cell_type": "code",
   "id": "initial_id",
   "metadata": {
    "collapsed": true,
    "ExecuteTime": {
     "end_time": "2024-12-20T06:39:56.021316Z",
     "start_time": "2024-12-20T06:39:55.923166Z"
    }
   },
   "source": [
    "import os\n",
    "import pandas as pd\n",
    "import matplotlib.pyplot as plt\n",
    "from matplotlib.pyplot import legend\n",
    "\n",
    "folder = \"..\"\n",
    "# Load the Excel file into a DataFrame\n",
    "df = pd.read_excel(folder+os.sep+'wines_dataset.xlsx')\n",
    "\n",
    "# for col in df.columns:\n",
    "#     print(col)\n",
    "\n",
    "\n",
    "# plt.pie(df['type'].value_counts(),labels=list(set(df['type'].dropna())))\n",
    "# plt.show()\n",
    "#\n",
    "# plt.pie(df['category'].value_counts(),labels=df['category'].unique())\n",
    "# plt.show()\n",
    "#\n",
    "# plt.hist(df['price'].value_counts())\n",
    "# plt.show()\n",
    "#\n",
    "# df = df.filter(items=['type','category','afrutado_especiado','joven_crianza','ligero_corpulento'])\n",
    "# df = df[(df[\"type\"]==\"Dry\") & (df[\"category\"]==\"Red\")]\n",
    "\n",
    "ind = [0,0,0]\n",
    "t = ([1,3],[4,6],[7,10])\n",
    "for i,tag in enumerate(['afrutado_especiado','joven_crianza','ligero_corpulento']):\n",
    "    df=df[(t[ind[i]][0]<=df[tag])& (df[tag]<=t[ind[i]][1])]\n",
    "print(len(df))"
   ],
   "outputs": [
    {
     "name": "stdout",
     "output_type": "stream",
     "text": [
      "32\n"
     ]
    }
   ],
   "execution_count": 9
  },
  {
   "metadata": {},
   "cell_type": "code",
   "outputs": [],
   "execution_count": null,
   "source": "",
   "id": "fb856a7e52d7c380"
  }
 ],
 "metadata": {
  "kernelspec": {
   "display_name": "Python 3",
   "language": "python",
   "name": "python3"
  },
  "language_info": {
   "codemirror_mode": {
    "name": "ipython",
    "version": 2
   },
   "file_extension": ".py",
   "mimetype": "text/x-python",
   "name": "python",
   "nbconvert_exporter": "python",
   "pygments_lexer": "ipython2",
   "version": "2.7.6"
  }
 },
 "nbformat": 4,
 "nbformat_minor": 5
}
