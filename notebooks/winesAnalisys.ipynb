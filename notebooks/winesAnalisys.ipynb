{
 "cells": [
  {
   "cell_type": "code",
   "id": "initial_id",
   "metadata": {
    "collapsed": true,
    "ExecuteTime": {
     "end_time": "2025-02-11T16:50:06.951881Z",
     "start_time": "2025-02-11T16:50:06.224255Z"
    }
   },
   "source": [
    "import os\n",
    "import pandas as pd\n",
    "import matplotlib.pyplot as plt\n",
    "from matplotlib.pyplot import legend\n",
    "\n",
    "folder = \".\"\n",
    "# Load the Excel file into a DataFrame\n",
    "vinos = pd.read_excel(folder+os.sep+'wines_dataset.xlsx')\n",
    "vinosfeatures = pd.read_excel(folder+os.sep+'tablavinos.xlsx')\n",
    "\n",
    "# afrutado_especiado\tjoven_crianza\tligero_corpulento\n",
    "# cuerpo\taged\tfruta-especie\n",
    "vinosfeatures = vinosfeatures.astype({'aged':int,'fruta-especie':int,'cuerpo':int})\n",
    "\n",
    "for ind, row in vinosfeatures.iterrows():\n",
    "    # how to check\n",
    "    if row['Variant SKU'] in vinos['code'].values:\n",
    "        #print('before',vinos.loc[vinos['code']==row['Variant SKU'],'joven_crianza'].values)\n",
    "        #print(row['aged'])\n",
    "        vinos.loc[vinos['code']==row['Variant SKU'],'joven_crianza'] = row['aged']\n",
    "        #print('after',vinos.loc[vinos['code']==row['Variant SKU'],'joven_crianza'].values)\n",
    "        vinos.loc[vinos['code']==row['Variant SKU'],'afrutado_especiado'] = row['fruta-especie']\n",
    "        vinos.loc[vinos['code']==row['Variant SKU'],'ligero_corpulento'] = row['cuerpo']\n",
    "    else:\n",
    "        print(\"Error: \",row['Variant SKU'])\n",
    "\n",
    "vinos.to_excel(folder+os.sep+'wines_dataset.xlsx')\n",
    "# plt.pie(df['type'].value_counts(),labels=list(set(df['type'].dropna())))\n",
    "# plt.show()\n",
    "#\n",
    "# plt.pie(df['category'].value_counts(),labels=df['category'].unique())\n",
    "# plt.show()\n",
    "#\n",
    "# plt.hist(df['price'].value_counts())\n",
    "# plt.show()\n",
    "#\n",
    "# df = df.filter(items=['type','category','afrutado_especiado','joven_crianza','ligero_corpulento'])\n",
    "# df = df[(df[\"type\"]==\"Dry\") & (df[\"category\"]==\"Red\")]\n",
    "\n",
    "# ind = [0,0,0]\n",
    "# t = ([1,3],[4,6],[7,10])\n",
    "# for i,tag in enumerate(['afrutado_especiado','joven_crianza','ligero_corpulento']):\n",
    "#     df=df[(t[ind[i]][0]<=df[tag])& (df[tag]<=t[ind[i]][1])]\n",
    "# print(len(df))\n",
    "\n",
    "print(vinos.loc[vinos['code']==10156320181,'ligero_corpulento'])\n",
    "print(vinosfeatures.loc[vinosfeatures['Variant SKU']==10156320181,'cuerpo'])"
   ],
   "outputs": [
    {
     "name": "stdout",
     "output_type": "stream",
     "text": [
      "Error:  10134020185\n",
      "Error:  10134300281\n",
      "Error:  10134310584\n",
      "Error:  10234130284\n",
      "Error:  10240100188\n",
      "411    5\n",
      "Name: ligero_corpulento, dtype: int64\n",
      "288    5\n",
      "Name: cuerpo, dtype: int64\n"
     ]
    }
   ],
   "execution_count": 35
  },
  {
   "metadata": {},
   "cell_type": "code",
   "outputs": [],
   "execution_count": null,
   "source": "",
   "id": "fb856a7e52d7c380"
  }
 ],
 "metadata": {
  "kernelspec": {
   "display_name": "Python 3",
   "language": "python",
   "name": "python3"
  },
  "language_info": {
   "codemirror_mode": {
    "name": "ipython",
    "version": 2
   },
   "file_extension": ".py",
   "mimetype": "text/x-python",
   "name": "python",
   "nbconvert_exporter": "python",
   "pygments_lexer": "ipython2",
   "version": "2.7.6"
  }
 },
 "nbformat": 4,
 "nbformat_minor": 5
}
